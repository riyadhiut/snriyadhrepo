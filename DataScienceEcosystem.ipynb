{
 "cells": [
  {
   "cell_type": "markdown",
   "id": "1e515d93-df0f-45a2-ac13-0d63498eee9d",
   "metadata": {},
   "source": [
    "# Data Science Tools and Ecosystem"
   ]
  },
  {
   "cell_type": "markdown",
   "id": "4390e1bc-2213-46bd-b826-b2a90ba2752c",
   "metadata": {},
   "source": [
    "## Introduction\n",
    "In this notebook, Data Science Tools and Ecosystem are summarized."
   ]
  },
  {
   "cell_type": "markdown",
   "id": "c26b1a0c-08a0-4b68-b1cb-2c4095a79a25",
   "metadata": {},
   "source": [
    "**Objectives:**\n",
    "\n",
    "- List popular languages for Data Science\n",
    "- List of Tools for Data Science\n",
    "- How to do simple arithmetic expressions\n",
    "- Overview of common data science libraries\n",
    "- Examples of using data science tools\n"
   ]
  },
  {
   "cell_type": "markdown",
   "id": "123435bc-0ef7-43d3-986b-ae7e8795310d",
   "metadata": {},
   "source": [
    "Some of the popular languages that Data Scientists use are:\n",
    "1. Python\n",
    "2. R\n",
    "3. Scala\n"
   ]
  },
  {
   "cell_type": "markdown",
   "id": "e581a331-3428-4aa1-a046-094249f512b0",
   "metadata": {},
   "source": [
    "Commonly used libraries by Data Scientists include:\n",
    "1. NumPy\n",
    "2. Pandas\n",
    "3. Matplotlib\n",
    "4. Scikit-learn\n",
    "5. TensorFlow\n"
   ]
  },
  {
   "cell_type": "markdown",
   "id": "b5c47c66-79ea-45e8-a617-ac9d0af22541",
   "metadata": {},
   "source": [
    "| Data Science Tools           |\n",
    "|------------------------------|\n",
    "| Jupyter Notebook              |\n",
    "| RStudio                       |\n",
    "| Apache Zeppelin               |\n"
   ]
  },
  {
   "cell_type": "markdown",
   "id": "a3906c7b-e56c-4622-9176-a1d580857d31",
   "metadata": {},
   "source": [
    "### Below are a few examples of evaluating arithmetic expressions in Python\n",
    "\n",
    "1. Addition: `3 + 2` results in `5`\n",
    "2. Subtraction: `10 - 4` results in `6`\n",
    "3. Multiplication: `7 * 8` results in `56`\n",
    "4. Division: `20 / 5` results in `4.0`\n",
    "5. Exponentiation: `2 ** 3` results in `8`\n",
    "6. Modulus: `10 % 3` results in `1`\n"
   ]
  },
  {
   "cell_type": "code",
   "execution_count": 3,
   "id": "5a56be96-af11-41ec-8410-3c900552e7ed",
   "metadata": {},
   "outputs": [
    {
     "data": {
      "text/plain": [
       "17"
      ]
     },
     "execution_count": 3,
     "metadata": {},
     "output_type": "execute_result"
    }
   ],
   "source": [
    "#This a simple arithmetic expression to mutiply then add integers\n",
    "\n",
    "(3*4)+5"
   ]
  },
  {
   "cell_type": "code",
   "execution_count": 4,
   "id": "d707f91f-1ed4-4202-bd6f-08021fbe5638",
   "metadata": {},
   "outputs": [
    {
     "data": {
      "text/plain": [
       "3.3333333333333335"
      ]
     },
     "execution_count": 4,
     "metadata": {},
     "output_type": "execute_result"
    }
   ],
   "source": [
    "# This will convert 200 minutes to hours by diving by 60\n",
    "\n",
    "200/60"
   ]
  },
  {
   "cell_type": "code",
   "execution_count": null,
   "id": "891ea3ef-eb92-4e39-93c2-6cde2b6a499e",
   "metadata": {},
   "outputs": [],
   "source": [
    "## Author\n",
    "\n",
    "Riyadh Uddin Mahmood Chowdhury"
   ]
  },
  {
   "cell_type": "code",
   "execution_count": null,
   "id": "7a216053-14d5-4733-8e04-e1e1c11bf01f",
   "metadata": {},
   "outputs": [],
   "source": []
  }
 ],
 "metadata": {
  "kernelspec": {
   "display_name": "Python 3 (ipykernel)",
   "language": "python",
   "name": "python3"
  },
  "language_info": {
   "codemirror_mode": {
    "name": "ipython",
    "version": 3
   },
   "file_extension": ".py",
   "mimetype": "text/x-python",
   "name": "python",
   "nbconvert_exporter": "python",
   "pygments_lexer": "ipython3",
   "version": "3.12.4"
  }
 },
 "nbformat": 4,
 "nbformat_minor": 5
}
